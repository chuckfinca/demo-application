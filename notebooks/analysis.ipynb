{
 "cells": [
  {
   "cell_type": "code",
   "execution_count": 1,
   "id": "62a85300-fa0c-486a-a6fd-bf1bd8a1ae64",
   "metadata": {},
   "outputs": [
    {
     "name": "stdout",
     "output_type": "stream",
     "text": [
      "Libraries imported successfully.\n"
     ]
    }
   ],
   "source": [
    "import pandas as pd\n",
    "import numpy as np\n",
    "import matplotlib.pyplot as plt\n",
    "import seaborn as sns\n",
    "import re\n",
    "from vaderSentiment.vaderSentiment import SentimentIntensityAnalyzer\n",
    "from wordcloud import WordCloud\n",
    "\n",
    "# Settings for better display in the notebook\n",
    "pd.set_option('display.max_colwidth', 200)\n",
    "sns.set_style('whitegrid')\n",
    "print(\"Libraries imported successfully.\")\n"
   ]
  },
  {
   "cell_type": "code",
   "execution_count": 4,
   "id": "44c8e4ba-978b-484c-9455-c546a0134e1c",
   "metadata": {},
   "outputs": [
    {
     "name": "stdout",
     "output_type": "stream",
     "text": [
      "Data loaded successfully.\n",
      "Original Data Shape: (17841, 4)\n",
      "\n",
      "Data Info After Cleaning:\n",
      "<class 'pandas.core.frame.DataFrame'>\n",
      "DatetimeIndex: 17812 entries, 2025-03-01 00:13:57.153000+00:00 to 2025-04-02 18:29:59.086000+00:00\n",
      "Data columns (total 3 columns):\n",
      " #   Column         Non-Null Count  Dtype \n",
      "---  ------         --------------  ----- \n",
      " 0   media_id       17812 non-null  int64 \n",
      " 1   media_caption  17804 non-null  object\n",
      " 2   comment_text   17812 non-null  object\n",
      "dtypes: int64(1), object(2)\n",
      "memory usage: 556.6+ KB\n",
      "\n",
      "--- Data Head ---\n"
     ]
    },
    {
     "data": {
      "text/html": [
       "<div>\n",
       "<style scoped>\n",
       "    .dataframe tbody tr th:only-of-type {\n",
       "        vertical-align: middle;\n",
       "    }\n",
       "\n",
       "    .dataframe tbody tr th {\n",
       "        vertical-align: top;\n",
       "    }\n",
       "\n",
       "    .dataframe thead th {\n",
       "        text-align: right;\n",
       "    }\n",
       "</style>\n",
       "<table border=\"1\" class=\"dataframe\">\n",
       "  <thead>\n",
       "    <tr style=\"text-align: right;\">\n",
       "      <th></th>\n",
       "      <th>media_id</th>\n",
       "      <th>media_caption</th>\n",
       "      <th>comment_text</th>\n",
       "    </tr>\n",
       "    <tr>\n",
       "      <th>timestamp</th>\n",
       "      <th></th>\n",
       "      <th></th>\n",
       "      <th></th>\n",
       "    </tr>\n",
       "  </thead>\n",
       "  <tbody>\n",
       "    <tr>\n",
       "      <th>2025-03-01 00:13:57.153000+00:00</th>\n",
       "      <td>1090986906404998</td>\n",
       "      <td>Soft skin, soft life 🩷🌸🫧 get your hands on this self-care gem!</td>\n",
       "      <td>I bet this is good</td>\n",
       "    </tr>\n",
       "    <tr>\n",
       "      <th>2025-03-01 00:23:06.879000+00:00</th>\n",
       "      <td>17950254656929862</td>\n",
       "      <td>Why use one scrub when you can use them all at once 🤩\\n\\n#treehut #treehutcollection #megascrub</td>\n",
       "      <td>i know this smells so good</td>\n",
       "    </tr>\n",
       "    <tr>\n",
       "      <th>2025-03-01 00:04:05.094000+00:00</th>\n",
       "      <td>1090109319826090</td>\n",
       "      <td>Morning routine with Tree Hut 🍊🫧 Now available online and in-store!</td>\n",
       "      <td>Love it</td>\n",
       "    </tr>\n",
       "    <tr>\n",
       "      <th>2025-03-01 00:41:59.467000+00:00</th>\n",
       "      <td>1098364052333950</td>\n",
       "      <td>Why use one scrub when you can use them all at once 🤩</td>\n",
       "      <td>Please carry these in Canada! I miss them so much!</td>\n",
       "    </tr>\n",
       "    <tr>\n",
       "      <th>2025-03-01 02:21:29.715000+00:00</th>\n",
       "      <td>1083943630442659</td>\n",
       "      <td>Vanilla Serum-Infused Hand Wash: A sweet escape for dry hands.</td>\n",
       "      <td>I love it ..✌️</td>\n",
       "    </tr>\n",
       "  </tbody>\n",
       "</table>\n",
       "</div>"
      ],
      "text/plain": [
       "                                           media_id  \\\n",
       "timestamp                                             \n",
       "2025-03-01 00:13:57.153000+00:00   1090986906404998   \n",
       "2025-03-01 00:23:06.879000+00:00  17950254656929862   \n",
       "2025-03-01 00:04:05.094000+00:00   1090109319826090   \n",
       "2025-03-01 00:41:59.467000+00:00   1098364052333950   \n",
       "2025-03-01 02:21:29.715000+00:00   1083943630442659   \n",
       "\n",
       "                                                                                                                    media_caption  \\\n",
       "timestamp                                                                                                                           \n",
       "2025-03-01 00:13:57.153000+00:00                                   Soft skin, soft life 🩷🌸🫧 get your hands on this self-care gem!   \n",
       "2025-03-01 00:23:06.879000+00:00  Why use one scrub when you can use them all at once 🤩\\n\\n#treehut #treehutcollection #megascrub   \n",
       "2025-03-01 00:04:05.094000+00:00                              Morning routine with Tree Hut 🍊🫧 Now available online and in-store!   \n",
       "2025-03-01 00:41:59.467000+00:00                                            Why use one scrub when you can use them all at once 🤩   \n",
       "2025-03-01 02:21:29.715000+00:00                                   Vanilla Serum-Infused Hand Wash: A sweet escape for dry hands.   \n",
       "\n",
       "                                                                        comment_text  \n",
       "timestamp                                                                             \n",
       "2025-03-01 00:13:57.153000+00:00                                  I bet this is good  \n",
       "2025-03-01 00:23:06.879000+00:00                          i know this smells so good  \n",
       "2025-03-01 00:04:05.094000+00:00                                             Love it  \n",
       "2025-03-01 00:41:59.467000+00:00  Please carry these in Canada! I miss them so much!  \n",
       "2025-03-01 02:21:29.715000+00:00                                      I love it ..✌️  "
      ]
     },
     "metadata": {},
     "output_type": "display_data"
    }
   ],
   "source": [
    "DATA_FILEPATH = '../data/treehut_comments.csv'\n",
    "\n",
    "try:\n",
    "    df = pd.read_csv(DATA_FILEPATH, sep=',', on_bad_lines='skip')\n",
    "    print(\"Data loaded successfully.\")\n",
    "except FileNotFoundError:\n",
    "    print(f\"ERROR: Data file not found at {DATA_FILEPATH}\")\n",
    "\n",
    "# --- Data Cleaning & Preparation ---\n",
    "print(\"Original Data Shape:\", df.shape)\n",
    "df.dropna(subset=['comment_text'], inplace=True)\n",
    "df['comment_text'] = df['comment_text'].astype(str)\n",
    "df['timestamp'] = df['timestamp'] = pd.to_datetime(df['timestamp'], format='ISO8601')\n",
    "df.set_index('timestamp', inplace=True)\n",
    "\n",
    "print(\"\\nData Info After Cleaning:\")\n",
    "df.info()\n",
    "\n",
    "print(\"\\n--- Data Head ---\")\n",
    "display(df.head())\n"
   ]
  },
  {
   "cell_type": "code",
   "execution_count": null,
   "id": "09179fbf-6100-4f5f-b9eb-0bf70286d203",
   "metadata": {},
   "outputs": [],
   "source": [
    "print(\"--- Top 10 Most Commented-On Posts (by caption) ---\")\n",
    "display(df['media_caption'].value_counts().head(10))\n"
   ]
  }
 ],
 "metadata": {
  "kernelspec": {
   "display_name": "Python 3 (ipykernel)",
   "language": "python",
   "name": "python3"
  },
  "language_info": {
   "codemirror_mode": {
    "name": "ipython",
    "version": 3
   },
   "file_extension": ".py",
   "mimetype": "text/x-python",
   "name": "python",
   "nbconvert_exporter": "python",
   "pygments_lexer": "ipython3",
   "version": "3.12.8"
  }
 },
 "nbformat": 4,
 "nbformat_minor": 5
}
