{
 "cells": [
  {
   "cell_type": "code",
   "execution_count": 1,
   "id": "62a85300-fa0c-486a-a6fd-bf1bd8a1ae64",
   "metadata": {},
   "outputs": [
    {
     "name": "stdout",
     "output_type": "stream",
     "text": [
      "Libraries imported successfully.\n"
     ]
    }
   ],
   "source": [
    "import pandas as pd\n",
    "import numpy as np\n",
    "import matplotlib.pyplot as plt\n",
    "import seaborn as sns\n",
    "import re\n",
    "from vaderSentiment.vaderSentiment import SentimentIntensityAnalyzer\n",
    "from wordcloud import WordCloud\n",
    "\n",
    "# Settings for better display in the notebook\n",
    "pd.set_option('display.max_colwidth', 200)\n",
    "sns.set_style('whitegrid')\n",
    "print(\"Libraries imported successfully.\")\n"
   ]
  },
  {
   "cell_type": "code",
   "execution_count": 4,
   "id": "44c8e4ba-978b-484c-9455-c546a0134e1c",
   "metadata": {},
   "outputs": [
    {
     "name": "stdout",
     "output_type": "stream",
     "text": [
      "Data loaded successfully.\n",
      "Original Data Shape: (17841, 4)\n",
      "\n",
      "Data Info After Cleaning:\n",
      "<class 'pandas.core.frame.DataFrame'>\n",
      "DatetimeIndex: 17812 entries, 2025-03-01 00:13:57.153000+00:00 to 2025-04-02 18:29:59.086000+00:00\n",
      "Data columns (total 3 columns):\n",
      " #   Column         Non-Null Count  Dtype \n",
      "---  ------         --------------  ----- \n",
      " 0   media_id       17812 non-null  int64 \n",
      " 1   media_caption  17804 non-null  object\n",
      " 2   comment_text   17812 non-null  object\n",
      "dtypes: int64(1), object(2)\n",
      "memory usage: 556.6+ KB\n",
      "\n",
      "--- Data Head ---\n"
     ]
    },
    {
     "data": {
      "text/html": [
       "<div>\n",
       "<style scoped>\n",
       "    .dataframe tbody tr th:only-of-type {\n",
       "        vertical-align: middle;\n",
       "    }\n",
       "\n",
       "    .dataframe tbody tr th {\n",
       "        vertical-align: top;\n",
       "    }\n",
       "\n",
       "    .dataframe thead th {\n",
       "        text-align: right;\n",
       "    }\n",
       "</style>\n",
       "<table border=\"1\" class=\"dataframe\">\n",
       "  <thead>\n",
       "    <tr style=\"text-align: right;\">\n",
       "      <th></th>\n",
       "      <th>media_id</th>\n",
       "      <th>media_caption</th>\n",
       "      <th>comment_text</th>\n",
       "    </tr>\n",
       "    <tr>\n",
       "      <th>timestamp</th>\n",
       "      <th></th>\n",
       "      <th></th>\n",
       "      <th></th>\n",
       "    </tr>\n",
       "  </thead>\n",
       "  <tbody>\n",
       "    <tr>\n",
       "      <th>2025-03-01 00:13:57.153000+00:00</th>\n",
       "      <td>1090986906404998</td>\n",
       "      <td>Soft skin, soft life 🩷🌸🫧 get your hands on this self-care gem!</td>\n",
       "      <td>I bet this is good</td>\n",
       "    </tr>\n",
       "    <tr>\n",
       "      <th>2025-03-01 00:23:06.879000+00:00</th>\n",
       "      <td>17950254656929862</td>\n",
       "      <td>Why use one scrub when you can use them all at once 🤩\\n\\n#treehut #treehutcollection #megascrub</td>\n",
       "      <td>i know this smells so good</td>\n",
       "    </tr>\n",
       "    <tr>\n",
       "      <th>2025-03-01 00:04:05.094000+00:00</th>\n",
       "      <td>1090109319826090</td>\n",
       "      <td>Morning routine with Tree Hut 🍊🫧 Now available online and in-store!</td>\n",
       "      <td>Love it</td>\n",
       "    </tr>\n",
       "    <tr>\n",
       "      <th>2025-03-01 00:41:59.467000+00:00</th>\n",
       "      <td>1098364052333950</td>\n",
       "      <td>Why use one scrub when you can use them all at once 🤩</td>\n",
       "      <td>Please carry these in Canada! I miss them so much!</td>\n",
       "    </tr>\n",
       "    <tr>\n",
       "      <th>2025-03-01 02:21:29.715000+00:00</th>\n",
       "      <td>1083943630442659</td>\n",
       "      <td>Vanilla Serum-Infused Hand Wash: A sweet escape for dry hands.</td>\n",
       "      <td>I love it ..✌️</td>\n",
       "    </tr>\n",
       "  </tbody>\n",
       "</table>\n",
       "</div>"
      ],
      "text/plain": [
       "                                           media_id  \\\n",
       "timestamp                                             \n",
       "2025-03-01 00:13:57.153000+00:00   1090986906404998   \n",
       "2025-03-01 00:23:06.879000+00:00  17950254656929862   \n",
       "2025-03-01 00:04:05.094000+00:00   1090109319826090   \n",
       "2025-03-01 00:41:59.467000+00:00   1098364052333950   \n",
       "2025-03-01 02:21:29.715000+00:00   1083943630442659   \n",
       "\n",
       "                                                                                                                    media_caption  \\\n",
       "timestamp                                                                                                                           \n",
       "2025-03-01 00:13:57.153000+00:00                                   Soft skin, soft life 🩷🌸🫧 get your hands on this self-care gem!   \n",
       "2025-03-01 00:23:06.879000+00:00  Why use one scrub when you can use them all at once 🤩\\n\\n#treehut #treehutcollection #megascrub   \n",
       "2025-03-01 00:04:05.094000+00:00                              Morning routine with Tree Hut 🍊🫧 Now available online and in-store!   \n",
       "2025-03-01 00:41:59.467000+00:00                                            Why use one scrub when you can use them all at once 🤩   \n",
       "2025-03-01 02:21:29.715000+00:00                                   Vanilla Serum-Infused Hand Wash: A sweet escape for dry hands.   \n",
       "\n",
       "                                                                        comment_text  \n",
       "timestamp                                                                             \n",
       "2025-03-01 00:13:57.153000+00:00                                  I bet this is good  \n",
       "2025-03-01 00:23:06.879000+00:00                          i know this smells so good  \n",
       "2025-03-01 00:04:05.094000+00:00                                             Love it  \n",
       "2025-03-01 00:41:59.467000+00:00  Please carry these in Canada! I miss them so much!  \n",
       "2025-03-01 02:21:29.715000+00:00                                      I love it ..✌️  "
      ]
     },
     "metadata": {},
     "output_type": "display_data"
    }
   ],
   "source": [
    "DATA_FILEPATH = '../data/treehut_comments.csv'\n",
    "\n",
    "try:\n",
    "    df = pd.read_csv(DATA_FILEPATH, sep=',', on_bad_lines='skip')\n",
    "    print(\"Data loaded successfully.\")\n",
    "except FileNotFoundError:\n",
    "    print(f\"ERROR: Data file not found at {DATA_FILEPATH}\")\n",
    "\n",
    "# --- Data Cleaning & Preparation ---\n",
    "print(\"Original Data Shape:\", df.shape)\n",
    "df.dropna(subset=['comment_text'], inplace=True)\n",
    "df['comment_text'] = df['comment_text'].astype(str)\n",
    "df['timestamp'] = df['timestamp'] = pd.to_datetime(df['timestamp'], format='ISO8601')\n",
    "df.set_index('timestamp', inplace=True)\n",
    "\n",
    "print(\"\\nData Info After Cleaning:\")\n",
    "df.info()\n",
    "\n",
    "print(\"\\n--- Data Head ---\")\n",
    "display(df.head())\n"
   ]
  },
  {
   "cell_type": "code",
   "execution_count": 5,
   "id": "09179fbf-6100-4f5f-b9eb-0bf70286d203",
   "metadata": {},
   "outputs": [
    {
     "name": "stdout",
     "output_type": "stream",
     "text": [
      "--- Top 10 Most Commented-On Posts (by caption) ---\n"
     ]
    },
    {
     "data": {
      "text/plain": [
       "media_caption\n",
       "APPLICATIONS ARE NOW CLOSED! 🚨 \\nThank you to everyone who applied! 💖\\n\\nBIG NEWS! 🚨 \\n\\nOur 2025 PR List Applications are officially OPEN! 🎉 Want in? Drop “TreeHut PR” in the comments & we’ll send you the link! 💌✨                                                                                                                                                                                                                                                                                                                                                                                                                                                                                                                                                                                                                                                                                                                        5762\n",
       "✨🌴SPRING BREAK GIVEAWAY 🌴✨\\n\\nWith spring break around the corner, we’re setting you up for the ultimate everything shower—because smooth, glowing skin is a vacay essential! ☀️🏝️\\n\\nEnter now for a chance to win! ⬇️🎉\\n\\n🌺How to Enter 🌺\\n1. . Give this and our last 3 post a double tap ❤️\\n2. Follow @treehut ✅\\n3. Tag a bestie who would love this 💅\\n4. Share this post on your story🤩\\n\\n**@treehut will be the only account contacting giveaway winners**\\nWinners will be notified by Instagram Direct Message on 3/17/2025This contest is in no way sponsored, administered, or associated with Instagram, Inc. By entering, entrants confirm they are US Residents 18+ years of age, release Instagram of responsibility and agree to Instagram's terms of use.\\n\\nLooking for your spring break essentials. Shop the Tropic Glow collection today at @target\\n\\n#treehut #treehutcollection #tropicglow #selfcare #giveaway    2459\n",
       "💦GIVEAWAY TIME💦\\n\\nIs your skin craving hydration? 💦 Enter our Lotus Water giveaway for a chance to dive into our newest collection! \\n\\n🪷How to Enter 🪷\\n1. . Give this and our last 3 post a double tap ❤️\\n2. Follow @treehut ✅\\n3. Tag a bestie who would love this 💅\\n4. Share this post on your story🤩\\n\\n**@treehut will be the only account contacting giveaway winners**\\nWinners will be notified by Instagram Direct Message on 3/31/2025 This contest is in no way sponsored, administered, or associated with Instagram, Inc. By entering, entrants confirm they are US Residents 18+ years of age, release Instagram of responsibility and agree to Instagram's terms of use.\\n\\n#treehut #treehutcollection #lotuswater #selfcare #giveaway                                                                                                                                                                                    1653\n",
       "that's that me espresso                                                                                                                                                                                                                                                                                                                                                                                                                                                                                                                                                                                                                                                                                                                                                                                                                                                                                                                       1222\n",
       "Ready to wake up to soft, hydrated lips? 💋✨ \\nEnter our giveaway for a chance to win our Overnight Lip Mask!\\n\\n💋How to Enter 💋\\n1. . Give this and our last 3 post a double tap ❤️\\n2. Follow @treehut ✅\\n3. Tag a bestie who would love this 💅\\n4. Share this post on your story🤩\\n\\n**@treehut will be the only account contacting giveaway winners**\\nWinners will be notified by Instagram Direct Message on 3/24/2025 This contest is in no way sponsored, administered, or associated with Instagram, Inc. By entering, entrants confirm they are US Residents 18+ years of age, release Instagram of responsibility and agree to Instagram's terms of use.\\n\\nShop today @walmart\\n#treehut #treehutcollection #lipcare #selfcare                                                                                                                                                                                                      982\n",
       "✨Time for a Giveaway✨\\n\\nA spritz a day keeps the bad smells away! 😌✨ That’s why we’re giving away our latest Fragrance Mist! Want in? Enter now for a chance to win! 💖\\n\\n🪷How to Enter 🪷\\n1. . Give this and our last 3 post a double tap ❤️\\n2. Follow @treehut ✅\\n3. Tag a bestie who would love this 💅\\n4. Share this post on your story🤩\\n\\n**@treehut will be the only account contacting giveaway winners**\\nWinners will be notified by Instagram Direct Message on 4/07/2025 This contest is in no way sponsored, administered, or associated with Instagram, Inc. By entering, entrants confirm they are US Residents 18+ years of age, release Instagram of responsibility and agree to Instagram's terms of use.\\n\\n#treehut #treehutcollection #fragrance #selfcare #giveaway                                                                                                                                                    943\n",
       "You know what we can’t relate to? Dry skin. ✋❌\\n\\nMeet the Espresso Martini Collection—your skin’s ultimate pick-me-up after those late-night grinds✨\\n\\n#treehut #treehutcollection #selfcare #thatsthatmeespresso                                                                                                                                                                                                                                                                                                                                                                                                                                                                                                                                                                                                                                                                                                                            415\n",
       "Run to get my fave for a year-round summer skin! 🏝🫧                                                                                                                                                                                                                                                                                                                                                                                                                                                                                                                                                                                                                                                                                                                                                                                                                                                                                            219\n",
       "Two different vibes, one tough choice 🤔✨ Are you team 🌹 Moroccan Rose or 🥥 Coco Colada? Drop your pick in the comments! 👇\\n\\nShop Tree Hut at @walgreens today!🛍️\\n\\n#treehut #treehutcollection #scrubs #selfcare                                                                                                                                                                                                                                                                                                                                                                                                                                                                                                                                                                                                                                                                                                                             200\n",
       "Morning routine with Tree Hut 🍊🫧 Now available online and in-store!                                                                                                                                                                                                                                                                                                                                                                                                                                                                                                                                                                                                                                                                                                                                                                                                                                                                            154\n",
       "Name: count, dtype: int64"
      ]
     },
     "metadata": {},
     "output_type": "display_data"
    }
   ],
   "source": [
    "print(\"--- Top 10 Most Commented-On Posts (by caption) ---\")\n",
    "display(df['media_caption'].value_counts().head(10))\n"
   ]
  },
  {
   "cell_type": "code",
   "execution_count": 6,
   "id": "0c293c43-1264-4f90-8997-4b4c802cab0b",
   "metadata": {},
   "outputs": [
    {
     "name": "stdout",
     "output_type": "stream",
     "text": [
      "Sentiment analysis complete.\n",
      "\n",
      "Sentiment Distribution (%):\n"
     ]
    },
    {
     "data": {
      "text/plain": [
       "sentiment\n",
       "neutral     68.835616\n",
       "positive    26.914440\n",
       "negative     4.249944\n",
       "Name: proportion, dtype: float64"
      ]
     },
     "metadata": {},
     "output_type": "display_data"
    },
    {
     "name": "stdout",
     "output_type": "stream",
     "text": [
      "\n",
      "--- Positive Comment Examples ---\n"
     ]
    },
    {
     "data": {
      "text/plain": [
       "timestamp\n",
       "2025-03-01 00:13:57.153000+00:00                                    I bet this is good\n",
       "2025-03-01 00:23:06.879000+00:00                            i know this smells so good\n",
       "2025-03-01 00:04:05.094000+00:00                                               Love it\n",
       "2025-03-01 00:41:59.467000+00:00    Please carry these in Canada! I miss them so much!\n",
       "2025-03-01 02:21:29.715000+00:00                                        I love it ..✌️\n",
       "Name: comment_text, dtype: object"
      ]
     },
     "metadata": {},
     "output_type": "display_data"
    },
    {
     "name": "stdout",
     "output_type": "stream",
     "text": [
      "\n",
      "--- Negative Comment Examples ---\n"
     ]
    },
    {
     "data": {
      "text/plain": [
       "timestamp\n",
       "2025-03-01 02:49:52.965000+00:00                               Bad bad bad!!!!\n",
       "2025-03-01 02:30:07.229000+00:00    Wasteful! And this actually pisses me off!\n",
       "2025-03-01 09:49:34.924000+00:00                         What's with the eyes😭\n",
       "2025-03-01 09:35:30.464000+00:00                         🍊🔥🧡@maiden_butterfly_\n",
       "2025-03-01 18:26:36.091000+00:00                       Stop showing armpits!!!\n",
       "Name: comment_text, dtype: object"
      ]
     },
     "metadata": {},
     "output_type": "display_data"
    }
   ],
   "source": [
    "# --- INVESTIGATION A: OVERALL COMMUNITY SENTIMENT ---\n",
    "\n",
    "# Initialize the VADER sentiment analyzer\n",
    "analyzer = SentimentIntensityAnalyzer()\n",
    "\n",
    "# Define a function to get the sentiment category from a text\n",
    "def get_sentiment_category(text: str) -> str:\n",
    "    \"\"\"\n",
    "    Analyzes the sentiment of a text and returns 'positive', 'negative', or 'neutral'.\n",
    "    \"\"\"\n",
    "    # VADER's polarity_scores method returns a dictionary with scores.\n",
    "    # The 'compound' score is a normalized, weighted composite score.\n",
    "    score = analyzer.polarity_scores(text)['compound']\n",
    "    \n",
    "    if score >= 0.05:\n",
    "        return 'positive'\n",
    "    elif score <= -0.05:\n",
    "        return 'negative'\n",
    "    else:\n",
    "        return 'neutral'\n",
    "\n",
    "# Apply the function to the 'comment_text' column to create a new 'sentiment' column\n",
    "df['sentiment'] = df['comment_text'].apply(get_sentiment_category)\n",
    "\n",
    "print(\"Sentiment analysis complete.\")\n",
    "\n",
    "# Display the distribution of sentiments as percentages\n",
    "sentiment_distribution = df['sentiment'].value_counts(normalize=True) * 100\n",
    "print(\"\\nSentiment Distribution (%):\")\n",
    "display(sentiment_distribution)\n",
    "\n",
    "# Display a few examples of each sentiment type for a sanity check\n",
    "print(\"\\n--- Positive Comment Examples ---\")\n",
    "display(df[df['sentiment'] == 'positive']['comment_text'].head())\n",
    "\n",
    "print(\"\\n--- Negative Comment Examples ---\")\n",
    "display(df[df['sentiment'] == 'negative']['comment_text'].head())"
   ]
  },
  {
   "cell_type": "code",
   "execution_count": 7,
   "id": "f0cc884a-6523-46b9-9c21-65222239d590",
   "metadata": {},
   "outputs": [
    {
     "name": "stdout",
     "output_type": "stream",
     "text": [
      "--- Product & Scent Mention Counts ---\n"
     ]
    },
    {
     "data": {
      "text/plain": [
       "vanilla           96\n",
       "moroccan rose     70\n",
       "coco colada       66\n",
       "watermelon        43\n",
       "tangerine         36\n",
       "tropic glow       26\n",
       "strawberry        18\n",
       "jelly bear        13\n",
       "ocean glow         9\n",
       "peach              8\n",
       "passionfruit       2\n",
       "pink champagne     1\n",
       "lychee             1\n",
       "palm grove         0\n",
       "sunlit glow        0\n",
       "santal haze        0\n",
       "dtype: int64"
      ]
     },
     "metadata": {},
     "output_type": "display_data"
    }
   ],
   "source": [
    "# --- INVESTIGATION B: PRODUCT & SCENT BUZZ ---\n",
    "\n",
    "# Define a comprehensive list of known product names and scents\n",
    "PRODUCT_KEYWORDS = [\n",
    "    'tropic glow', 'sunlit glow', 'coco colada', 'vanilla', 'pink champagne', \n",
    "    'ocean glow', 'santal haze', 'palm grove', 'jelly bear', 'tangerine', \n",
    "    'moroccan rose', 'watermelon', 'passionfruit', 'lychee', 'strawberry', 'peach'\n",
    "]\n",
    "\n",
    "# Create a dictionary to store the mention count for each product\n",
    "product_mentions = {}\n",
    "for product in PRODUCT_KEYWORDS:\n",
    "    # Use str.contains() for powerful and fast substring searching.\n",
    "    # `case=False` makes the search case-insensitive (e.g., 'Vanilla' and 'vanilla' are counted).\n",
    "    # `na=False` treats any potential NaN values as not containing the keyword.\n",
    "    product_mentions[product] = df['comment_text'].str.contains(product, case=False, na=False).sum()\n",
    "\n",
    "# Convert the dictionary to a Pandas Series for easy sorting and plotting\n",
    "product_buzz = pd.Series(product_mentions).sort_values(ascending=False)\n",
    "\n",
    "print(\"--- Product & Scent Mention Counts ---\")\n",
    "display(product_buzz)"
   ]
  },
  {
   "cell_type": "code",
   "execution_count": 8,
   "id": "6fd96b10-b99b-4e1f-a5fc-cf3e5330e226",
   "metadata": {},
   "outputs": [
    {
     "name": "stdout",
     "output_type": "stream",
     "text": [
      "--- International Demand Signals ---\n"
     ]
    },
    {
     "data": {
      "text/plain": [
       "uk             20\n",
       "canada         11\n",
       "brazil          5\n",
       "australia       2\n",
       "germany         1\n",
       "europe          1\n",
       "netherlands     1\n",
       "dtype: int64"
      ]
     },
     "metadata": {},
     "output_type": "display_data"
    }
   ],
   "source": [
    "# --- INVESTIGATION C: GEOGRAPHIC EXPANSION OPPORTUNITIES ---\n",
    "\n",
    "LOCATION_KEYWORDS = ['canada', 'uk', 'europe', 'australia', 'germany', 'mexico', 'brazil', 'netherlands', 'sweden', 'shipping to']\n",
    "\n",
    "# Create a dictionary to store location mention counts\n",
    "location_mentions = {}\n",
    "for loc in LOCATION_KEYWORDS:\n",
    "    location_mentions[loc] = df['comment_text'].str.contains(loc, case=False, na=False).sum()\n",
    "\n",
    "# Convert to a sorted Series\n",
    "location_demand = pd.Series(location_mentions).sort_values(ascending=False)\n",
    "\n",
    "print(\"--- International Demand Signals ---\")\n",
    "# We only care about locations that were actually mentioned, so filter for counts > 0\n",
    "display(location_demand[location_demand > 0])"
   ]
  },
  {
   "cell_type": "code",
   "execution_count": 9,
   "id": "17e985ce-c5cf-4a9a-aee0-b0e482aacc20",
   "metadata": {},
   "outputs": [
    {
     "name": "stdout",
     "output_type": "stream",
     "text": [
      "Identified 6154 comments on giveaway posts.\n",
      "Identified 11658 comments on organic posts.\n",
      "\n",
      "--- Giveaway Post Sentiment Distribution (%) ---\n"
     ]
    },
    {
     "data": {
      "text/plain": [
       "sentiment\n",
       "neutral     82.027949\n",
       "positive    16.850829\n",
       "negative     1.121222\n",
       "Name: proportion, dtype: float64"
      ]
     },
     "metadata": {},
     "output_type": "display_data"
    },
    {
     "name": "stdout",
     "output_type": "stream",
     "text": [
      "\n",
      "--- Organic Post Sentiment Distribution (%) ---\n"
     ]
    },
    {
     "data": {
      "text/plain": [
       "sentiment\n",
       "neutral     61.871676\n",
       "positive    32.226797\n",
       "negative     5.901527\n",
       "Name: proportion, dtype: float64"
      ]
     },
     "metadata": {},
     "output_type": "display_data"
    }
   ],
   "source": [
    "# --- INVESTIGATION D: GIVEAWAY VS. ORGANIC CONTENT ---\n",
    "\n",
    "# Segment the DataFrame into giveaway and organic comments.\n",
    "# This is a powerful way to separate different user intents.\n",
    "df_giveaway = df[df['media_caption'].str.contains(\"giveaway\", case=False, na=False)]\n",
    "df_organic = df[~df['media_caption'].str.contains(\"giveaway\", case=False, na=False)]\n",
    "\n",
    "print(f\"Identified {len(df_giveaway)} comments on giveaway posts.\")\n",
    "print(f\"Identified {len(df_organic)} comments on organic posts.\")\n",
    "\n",
    "# Analyze sentiment for each segment\n",
    "giveaway_sentiment = df_giveaway['sentiment'].value_counts(normalize=True) * 100\n",
    "organic_sentiment = df_organic['sentiment'].value_counts(normalize=True) * 100\n",
    "\n",
    "print(\"\\n--- Giveaway Post Sentiment Distribution (%) ---\")\n",
    "display(giveaway_sentiment)\n",
    "\n",
    "print(\"\\n--- Organic Post Sentiment Distribution (%) ---\")\n",
    "display(organic_sentiment)"
   ]
  },
  {
   "cell_type": "code",
   "execution_count": null,
   "id": "4a418f95-b24b-4bd0-9678-47a8e6baa7c2",
   "metadata": {},
   "outputs": [],
   "source": []
  }
 ],
 "metadata": {
  "kernelspec": {
   "display_name": "Python 3 (ipykernel)",
   "language": "python",
   "name": "python3"
  },
  "language_info": {
   "codemirror_mode": {
    "name": "ipython",
    "version": 3
   },
   "file_extension": ".py",
   "mimetype": "text/x-python",
   "name": "python",
   "nbconvert_exporter": "python",
   "pygments_lexer": "ipython3",
   "version": "3.12.8"
  }
 },
 "nbformat": 4,
 "nbformat_minor": 5
}
